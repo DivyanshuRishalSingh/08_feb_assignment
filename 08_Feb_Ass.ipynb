{
 "cells": [
  {
   "cell_type": "code",
   "execution_count": 2,
   "id": "522ba5c0-a1d8-4b98-91b8-faacd66f2b2a",
   "metadata": {},
   "outputs": [],
   "source": [
    "                          ASSIGNMENT-8Feb(oops part-2)"
   ]
  },
  {
   "cell_type": "code",
   "execution_count": 7,
   "id": "1ce22907-d935-45d0-b9c0-87de1122105b",
   "metadata": {},
   "outputs": [],
   "source": [
    "Q1. What is Abstraction in OOps? Explain with an example.\n",
    "Ans->Abstraction is the process of hiding the internal details of an application from the outer world. \n",
    "      Abstraction is used to describe things in simple terms.It’s used to create a boundary between \n",
    "      the application and the client programs.\n",
    "       * there are two type.\n",
    "        1.data abstraction\n",
    "        2.process abstraction\n",
    "        eg.\n",
    "           from abc import ABC, abstractmethod\n",
    "            class abs_class(ABC):\n",
    "             #normal method\n",
    "             def method(self):\n",
    "              #method definition\n",
    "              @abstractmethod\n",
    "                def Abs_method(self):\n",
    "                #Abs_method definition"
   ]
  },
  {
   "cell_type": "code",
   "execution_count": null,
   "id": "52978bb6-1923-4d52-9d87-1e290679572b",
   "metadata": {},
   "outputs": [],
   "source": []
  },
  {
   "cell_type": "code",
   "execution_count": 7,
   "id": "152003ea-65bb-432d-986e-687eea5e2384",
   "metadata": {},
   "outputs": [],
   "source": [
    "Q2. Differentiate between Abstraction and Encapsulation. Explain with an example.\n",
    "Ans->Abstraction focuses on outside viewing, for example, shifting the car, \n",
    "     while Encapsulation focuses on internal working or inner viewing. \n",
    "     \n",
    "        Encapsulation: Wrapping code and data together into a single unit. Class is an example of \n",
    "        encapsulation, because it wraps the method and property.\n",
    "        \n",
    "        Abstraction: Hiding internal details and showing functionality only.Abstraction focus on what\n",
    "        the object does instead of how it does. It provides generalized view of classes."
   ]
  },
  {
   "cell_type": "code",
   "execution_count": null,
   "id": "38bf719a-6911-4beb-8f8a-241806b386a6",
   "metadata": {},
   "outputs": [],
   "source": []
  },
  {
   "cell_type": "code",
   "execution_count": null,
   "id": "7add7f3c-9b21-4670-ba21-fa0353d8b761",
   "metadata": {},
   "outputs": [],
   "source": [
    "Q3. What is abc module in python? Why is it used?\n",
    "ANS->The ABC module in Python is a collection of abstract base classes that are used to define \n",
    "     the common interface for a set of related objects (known as a hierarchy). \n",
    "     The purpose of an ABC is to provide a way to share functionality between related objects without \n",
    "     the need to subclassfrom a common base class"
   ]
  },
  {
   "cell_type": "code",
   "execution_count": null,
   "id": "a45b3352-d0e7-4c1a-b729-4d37866f5d64",
   "metadata": {},
   "outputs": [],
   "source": [
    "Q4. How can we achieve data abstraction?\n",
    "ANS->Data abstraction allows consumers to use a product without knowing how it works internally.\n",
    "     It has several benefits for product development, including making a more convenient user\n",
    "     experienceand safeguarding the product's uniqueness. By learning the importance of data\n",
    "     abstraction,you can make your devices easy to use and more secure. In this article, we define \n",
    "     data abstraction,explain its benefits and types and provide several data abstraction \n",
    "     examples for technology and security professions"
   ]
  },
  {
   "cell_type": "code",
   "execution_count": null,
   "id": "2f066075-9fd5-4980-b807-c299c9a82603",
   "metadata": {},
   "outputs": [],
   "source": [
    "Q5. Can we create an instance of an abstract class? Explain your answer.\n",
    "Ans->No, you cannot create an instance of an abstract class because it does not have a \n",
    "    complete implementation. The purpose of an abstract class is to function as a base for \n",
    "    subclasses. It acts like a template, or an empty or partially empty structure, \n",
    "    you should extend it and build on it before you can use it."
   ]
  }
 ],
 "metadata": {
  "kernelspec": {
   "display_name": "Python 3 (ipykernel)",
   "language": "python",
   "name": "python3"
  },
  "language_info": {
   "codemirror_mode": {
    "name": "ipython",
    "version": 3
   },
   "file_extension": ".py",
   "mimetype": "text/x-python",
   "name": "python",
   "nbconvert_exporter": "python",
   "pygments_lexer": "ipython3",
   "version": "3.10.8"
  }
 },
 "nbformat": 4,
 "nbformat_minor": 5
}
